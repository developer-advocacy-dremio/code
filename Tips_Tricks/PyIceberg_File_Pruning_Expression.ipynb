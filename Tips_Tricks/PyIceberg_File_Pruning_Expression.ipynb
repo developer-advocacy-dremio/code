{
 "cells": [
  {
   "cell_type": "code",
   "execution_count": null,
   "id": "d2159f41",
   "metadata": {},
   "outputs": [],
   "source": [
    "pip install \"pyiceberg[s3fs,glue]\""
   ]
  },
  {
   "cell_type": "code",
   "execution_count": null,
   "id": "2d8d2a49",
   "metadata": {},
   "outputs": [],
   "source": [
    "# Equal To Operator:\n",
    "from pyiceberg.catalog import load_catalog\n",
    "from pyiceberg.expressions import EqualTo\n",
    "catalog = load_catalog(\"glue\", **{\"type\": \"glue\"})\n",
    "tbl = catalog.load_table('test.employee')\n",
    "sc = tbl.scan(row_filter=EqualTo(\"role\", \"Developer Advocate\")).to_arrow()\n",
    "sc = sc.to_pandas()\n",
    "sc"
   ]
  },
  {
   "cell_type": "code",
   "execution_count": 31,
   "id": "2856c46f",
   "metadata": {},
   "outputs": [
    {
     "name": "stderr",
     "output_type": "stream",
     "text": [
      "/home/docker/.local/lib/python3.10/site-packages/pyiceberg/table/__init__.py:339: UserWarning: Projection is currently done by name instead of Field ID, this can lead to incorrect results in some cases.\n",
      "  warnings.warn(\n"
     ]
    },
    {
     "data": {
      "text/html": [
       "<div>\n",
       "<style scoped>\n",
       "    .dataframe tbody tr th:only-of-type {\n",
       "        vertical-align: middle;\n",
       "    }\n",
       "\n",
       "    .dataframe tbody tr th {\n",
       "        vertical-align: top;\n",
       "    }\n",
       "\n",
       "    .dataframe thead th {\n",
       "        text-align: right;\n",
       "    }\n",
       "</style>\n",
       "<table border=\"1\" class=\"dataframe\">\n",
       "  <thead>\n",
       "    <tr style=\"text-align: right;\">\n",
       "      <th></th>\n",
       "      <th>id</th>\n",
       "      <th>name</th>\n",
       "      <th>role</th>\n",
       "      <th>salary</th>\n",
       "    </tr>\n",
       "  </thead>\n",
       "  <tbody>\n",
       "    <tr>\n",
       "      <th>0</th>\n",
       "      <td>6</td>\n",
       "      <td>Troy</td>\n",
       "      <td>CMO</td>\n",
       "      <td>30000.0</td>\n",
       "    </tr>\n",
       "    <tr>\n",
       "      <th>1</th>\n",
       "      <td>7</td>\n",
       "      <td>Raine</td>\n",
       "      <td>UX</td>\n",
       "      <td>21000.0</td>\n",
       "    </tr>\n",
       "    <tr>\n",
       "      <th>2</th>\n",
       "      <td>8</td>\n",
       "      <td>Harry</td>\n",
       "      <td>QA</td>\n",
       "      <td>22000.0</td>\n",
       "    </tr>\n",
       "    <tr>\n",
       "      <th>3</th>\n",
       "      <td>6</td>\n",
       "      <td>Troy</td>\n",
       "      <td>CMO</td>\n",
       "      <td>30000.0</td>\n",
       "    </tr>\n",
       "    <tr>\n",
       "      <th>4</th>\n",
       "      <td>7</td>\n",
       "      <td>Raine</td>\n",
       "      <td>UX</td>\n",
       "      <td>21000.0</td>\n",
       "    </tr>\n",
       "    <tr>\n",
       "      <th>5</th>\n",
       "      <td>8</td>\n",
       "      <td>Harry</td>\n",
       "      <td>QA</td>\n",
       "      <td>22000.0</td>\n",
       "    </tr>\n",
       "    <tr>\n",
       "      <th>6</th>\n",
       "      <td>4</td>\n",
       "      <td>Ashleigh</td>\n",
       "      <td>Consultant</td>\n",
       "      <td>19000.0</td>\n",
       "    </tr>\n",
       "    <tr>\n",
       "      <th>7</th>\n",
       "      <td>3</td>\n",
       "      <td>Roy</td>\n",
       "      <td>Software Engineer</td>\n",
       "      <td>20000.0</td>\n",
       "    </tr>\n",
       "  </tbody>\n",
       "</table>\n",
       "</div>"
      ],
      "text/plain": [
       "   id      name               role   salary\n",
       "0   6      Troy                CMO  30000.0\n",
       "1   7     Raine                 UX  21000.0\n",
       "2   8     Harry                 QA  22000.0\n",
       "3   6      Troy                CMO  30000.0\n",
       "4   7     Raine                 UX  21000.0\n",
       "5   8     Harry                 QA  22000.0\n",
       "6   4  Ashleigh         Consultant  19000.0\n",
       "7   3       Roy  Software Engineer  20000.0"
      ]
     },
     "execution_count": 31,
     "metadata": {},
     "output_type": "execute_result"
    }
   ],
   "source": [
    "# Greater Than Operator:\n",
    "sc_new = tbl_new.scan(row_filter=GreaterThan(\"id\", \"2\")).to_arrow()\n",
    "sc_new = sc_new.to_pandas()\n",
    "sc_new"
   ]
  },
  {
   "cell_type": "code",
   "execution_count": null,
   "id": "6f680c49",
   "metadata": {},
   "outputs": [],
   "source": []
  }
 ],
 "metadata": {
  "kernelspec": {
   "display_name": "Python 3 (ipykernel)",
   "language": "python",
   "name": "python3"
  },
  "language_info": {
   "codemirror_mode": {
    "name": "ipython",
    "version": 3
   },
   "file_extension": ".py",
   "mimetype": "text/x-python",
   "name": "python",
   "nbconvert_exporter": "python",
   "pygments_lexer": "ipython3",
   "version": "3.10.6"
  }
 },
 "nbformat": 4,
 "nbformat_minor": 5
}
