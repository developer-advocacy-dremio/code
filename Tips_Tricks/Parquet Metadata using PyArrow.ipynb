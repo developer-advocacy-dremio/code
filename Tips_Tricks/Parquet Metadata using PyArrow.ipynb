{
 "cells": [
  {
   "cell_type": "code",
   "execution_count": 1,
   "id": "65cc41e2",
   "metadata": {},
   "outputs": [],
   "source": [
    "import pyarrow.parquet as parq"
   ]
  },
  {
   "cell_type": "code",
   "execution_count": 2,
   "id": "b1ac123a",
   "metadata": {},
   "outputs": [],
   "source": [
    "file = parq.ParquetFile('./HandM.parquet')"
   ]
  },
  {
   "cell_type": "code",
   "execution_count": 7,
   "id": "30543941",
   "metadata": {},
   "outputs": [
    {
     "name": "stdout",
     "output_type": "stream",
     "text": [
      "<pyarrow._parquet.FileMetaData object at 0x7fbe2964a860>\n",
      "  created_by: parquet-cpp-arrow version 8.0.0\n",
      "  num_columns: 13\n",
      "  num_rows: 31648066\n",
      "  num_row_groups: 1\n",
      "  format_version: 1.0\n",
      "  serialized_size: 7539\n"
     ]
    }
   ],
   "source": [
    "metadata = file.metadata\n",
    "print(metadata)"
   ]
  },
  {
   "cell_type": "code",
   "execution_count": 8,
   "id": "7d737bfd",
   "metadata": {},
   "outputs": [
    {
     "data": {
      "text/plain": [
       "<pyarrow._parquet.RowGroupMetaData object at 0x7fbe11c34e50>\n",
       "  num_columns: 13\n",
       "  num_rows: 31648066\n",
       "  total_byte_size: 2660131158"
      ]
     },
     "execution_count": 8,
     "metadata": {},
     "output_type": "execute_result"
    }
   ],
   "source": [
    "metadata.row_group(0)"
   ]
  },
  {
   "cell_type": "code",
   "execution_count": 10,
   "id": "87210c0f",
   "metadata": {},
   "outputs": [
    {
     "data": {
      "text/plain": [
       "<pyarrow._parquet.ColumnChunkMetaData object at 0x7fbe11c2f3b0>\n",
       "  file_offset: 255200605\n",
       "  file_path: \n",
       "  physical_type: INT64\n",
       "  num_values: 31648066\n",
       "  path_in_schema: article_id\n",
       "  is_stats_set: True\n",
       "  statistics:\n",
       "    <pyarrow._parquet.Statistics object at 0x7fbe11c2f5e0>\n",
       "      has_min_max: True\n",
       "      min: 108775015\n",
       "      max: 956217002\n",
       "      null_count: 0\n",
       "      distinct_count: 0\n",
       "      num_values: 31648066\n",
       "      physical_type: INT64\n",
       "      logical_type: None\n",
       "      converted_type (legacy): NONE\n",
       "  compression: SNAPPY\n",
       "  encodings: ('PLAIN_DICTIONARY', 'PLAIN', 'RLE')\n",
       "  has_dictionary_page: True\n",
       "  dictionary_page_offset: 187512087\n",
       "  data_page_offset: 188116766\n",
       "  total_compressed_size: 67688518\n",
       "  total_uncompressed_size: 67918139"
      ]
     },
     "execution_count": 10,
     "metadata": {},
     "output_type": "execute_result"
    }
   ],
   "source": [
    "metadata.row_group(0).column(1)"
   ]
  },
  {
   "cell_type": "code",
   "execution_count": null,
   "id": "d9f2b155",
   "metadata": {},
   "outputs": [],
   "source": []
  }
 ],
 "metadata": {
  "kernelspec": {
   "display_name": "Python 3 (ipykernel)",
   "language": "python",
   "name": "python3"
  },
  "language_info": {
   "codemirror_mode": {
    "name": "ipython",
    "version": 3
   },
   "file_extension": ".py",
   "mimetype": "text/x-python",
   "name": "python",
   "nbconvert_exporter": "python",
   "pygments_lexer": "ipython3",
   "version": "3.9.12"
  }
 },
 "nbformat": 4,
 "nbformat_minor": 5
}
