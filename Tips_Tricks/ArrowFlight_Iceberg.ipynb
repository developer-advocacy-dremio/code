{
 "cells": [
  {
   "cell_type": "code",
   "execution_count": 7,
   "id": "70994dca-fd3b-423c-ac35-be51bddf3d5f",
   "metadata": {},
   "outputs": [],
   "source": [
    "import os, pandas\n",
    "from pyarrow import flight\n",
    "import pyarrow as pa\n",
    "import getpass\n",
    "from os import environ\n",
    "pandas.set_option('display.width', 175)\n",
    "\n",
    "token = environ.get('token', 'Personal Access Token')\n",
    "\n",
    "headers = [\n",
    "    (b\"authorization\", f\"bearer {token}\".encode(\"utf-8\"))\n",
    "    ]\n",
    "\n",
    "client = flight.FlightClient('grpc+tls://data.dremio.cloud:443')\n",
    "options = flight.FlightCallOptions(headers=headers)"
   ]
  },
  {
   "cell_type": "code",
   "execution_count": 8,
   "id": "f005ad49-370b-4dae-86de-d0416f788510",
   "metadata": {},
   "outputs": [
    {
     "name": "stdout",
     "output_type": "stream",
     "text": [
      "           pickup_datetime  passenger_count  trip_distance_mi  fare_amount  tip_amount  total_amount\n",
      "0      2014-09-21 15:45:10                1               6.5         34.0         3.0          37.5\n",
      "1      2014-09-20 23:30:12                2               1.0          7.0         1.0           9.0\n",
      "2      2014-09-20 23:20:27                1               1.7          8.5         1.9          11.4\n",
      "3      2014-09-21 01:02:45                3               3.8         14.5         3.1          18.6\n",
      "4      2014-09-20 22:55:59                1               3.1         14.5         3.1          18.6\n",
      "...                    ...              ...               ...          ...         ...           ...\n",
      "999995 2013-07-17 19:56:14                1               1.4          9.0         1.8          12.3\n",
      "999996 2013-07-21 16:48:02                1               1.8          8.5         2.0          12.0\n",
      "999997 2013-07-19 21:52:48                3               1.5          8.0         1.8          10.8\n",
      "999998 2013-07-19 22:57:33                1               1.4          8.0         1.5          10.5\n",
      "999999 2013-07-18 09:02:39                1               0.8          9.5         0.5          10.5\n",
      "\n",
      "[1000000 rows x 6 columns]\n"
     ]
    }
   ],
   "source": [
    "sql = '''SELECT *\n",
    "         FROM Marketing.\"nyc_ice\"\n",
    "         LIMIT 1000000'''\n",
    "\n",
    "info = client.get_flight_info(flight.FlightDescriptor.for_command(sql + '-- arrow flight'),options)\n",
    "\n",
    "reader = client.do_get(info.endpoints[0].ticket, options)\n",
    "\n",
    "batches = []\n",
    "while True:\n",
    "    try:\n",
    "        \n",
    "        batch, metadata = reader.read_chunk()\n",
    "        batches.append(batch)\n",
    "    except StopIteration:\n",
    "        break\n",
    "data = pa.Table.from_batches(batches)\n",
    "df = data.to_pandas()\n",
    "\n",
    "print(df)"
   ]
  },
  {
   "cell_type": "code",
   "execution_count": 9,
   "id": "c4d7e7bb-4a75-4ef2-87ff-41145b787918",
   "metadata": {},
   "outputs": [
    {
     "data": {
      "image/png": "[encoded data removed]",
      "text/plain": [
       "<Figure size 432x288 with 1 Axes>"
      ]
     },
     "metadata": {
      "needs_background": "light"
     },
     "output_type": "display_data"
    }
   ],
   "source": [
    "%matplotlib inline\n",
    "import matplotlib.pyplot as plt;\n",
    "\n",
    "\n",
    "df.plot(x='pickup_datetime', y='tip_amount')\n",
    "plt.show()"
   ]
  },
  {
   "cell_type": "code",
   "execution_count": null,
   "id": "398a7e4f-52d1-4752-9cce-e7dd8f95a3e2",
   "metadata": {},
   "outputs": [],
   "source": []
  }
 ],
 "metadata": {
  "kernelspec": {
   "display_name": "Python 3 (ipykernel)",
   "language": "python",
   "name": "python3"
  },
  "language_info": {
   "codemirror_mode": {
    "name": "ipython",
    "version": 3
   },
   "file_extension": ".py",
   "mimetype": "text/x-python",
   "name": "python",
   "nbconvert_exporter": "python",
   "pygments_lexer": "ipython3",
   "version": "3.9.12"
  }
 },
 "nbformat": 4,
 "nbformat_minor": 5
}
