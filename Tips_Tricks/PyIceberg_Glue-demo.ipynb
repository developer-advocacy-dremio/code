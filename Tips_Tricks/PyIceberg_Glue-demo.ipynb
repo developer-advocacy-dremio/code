{
 "cells": [
  {
   "cell_type": "code",
   "execution_count": 2,
   "id": "e7e7d778",
   "metadata": {},
   "outputs": [
    {
     "name": "stdout",
     "output_type": "stream",
     "text": [
      "Defaulting to user installation because normal site-packages is not writeable\n",
      "Collecting pyiceberg[glue,s3fs]\n",
      "  Downloading pyiceberg-0.2.1-py3-none-any.whl (298 kB)\n",
      "\u001b[2K     \u001b[90m━━━━━━━━━━━━━━━━━━━━━━━━━━━━━━━━━━━━━━━\u001b[0m \u001b[32m298.1/298.1 KB\u001b[0m \u001b[31m2.6 MB/s\u001b[0m eta \u001b[36m0:00:00\u001b[0ma \u001b[36m0:00:01\u001b[0m\n",
      "\u001b[?25hCollecting mmhash3==3.0.1\n",
      "  Downloading mmhash3-3.0.1-cp310-cp310-manylinux_2_5_x86_64.manylinux1_x86_64.manylinux_2_17_x86_64.manylinux2014_x86_64.whl (38 kB)\n",
      "Collecting pyyaml==6.0.0\n",
      "  Downloading PyYAML-6.0-cp310-cp310-manylinux_2_5_x86_64.manylinux1_x86_64.manylinux_2_12_x86_64.manylinux2010_x86_64.whl (682 kB)\n",
      "\u001b[2K     \u001b[90m━━━━━━━━━━━━━━━━━━━━━━━━━━━━━━━━━━━━━━\u001b[0m \u001b[32m682.2/682.2 KB\u001b[0m \u001b[31m10.0 MB/s\u001b[0m eta \u001b[36m0:00:00\u001b[0ma \u001b[36m0:00:01\u001b[0m\n",
      "\u001b[?25hCollecting zstandard==0.19.0\n",
      "  Downloading zstandard-0.19.0-cp310-cp310-manylinux_2_17_x86_64.manylinux2014_x86_64.whl (2.5 MB)\n",
      "\u001b[2K     \u001b[90m━━━━━━━━━━━━━━━━━━━━━━━━━━━━━━━━━━━━━━━━\u001b[0m \u001b[32m2.5/2.5 MB\u001b[0m \u001b[31m12.1 MB/s\u001b[0m eta \u001b[36m0:00:00\u001b[0ma \u001b[36m0:00:01\u001b[0m\n",
      "\u001b[?25hCollecting fsspec==2022.10.0\n",
      "  Downloading fsspec-2022.10.0-py3-none-any.whl (138 kB)\n",
      "\u001b[2K     \u001b[90m━━━━━━━━━━━━━━━━━━━━━━━━━━━━━━━━━━━━━━\u001b[0m \u001b[32m138.8/138.8 KB\u001b[0m \u001b[31m13.1 MB/s\u001b[0m eta \u001b[36m0:00:00\u001b[0m\n",
      "\u001b[?25hCollecting requests==2.28.1\n",
      "  Downloading requests-2.28.1-py3-none-any.whl (62 kB)\n",
      "\u001b[2K     \u001b[90m━━━━━━━━━━━━━━━━━━━━━━━━━━━━━━━━━━━━━━━━\u001b[0m \u001b[32m62.8/62.8 KB\u001b[0m \u001b[31m6.4 MB/s\u001b[0m eta \u001b[36m0:00:00\u001b[0m\n",
      "\u001b[?25hCollecting pydantic==1.10.2\n",
      "  Downloading pydantic-1.10.2-cp310-cp310-manylinux_2_17_x86_64.manylinux2014_x86_64.whl (12.8 MB)\n",
      "\u001b[2K     \u001b[90m━━━━━━━━━━━━━━━━━━━━━━━━━━━━━━━━━━━━━━━━\u001b[0m \u001b[32m12.8/12.8 MB\u001b[0m \u001b[31m15.2 MB/s\u001b[0m eta \u001b[36m0:00:00\u001b[0m00:01\u001b[0m00:01\u001b[0m\n",
      "\u001b[?25hCollecting rich==12.6.0\n",
      "  Downloading rich-12.6.0-py3-none-any.whl (237 kB)\n",
      "\u001b[2K     \u001b[90m━━━━━━━━━━━━━━━━━━━━━━━━━━━━━━━━━━━━━━\u001b[0m \u001b[32m237.5/237.5 KB\u001b[0m \u001b[31m15.4 MB/s\u001b[0m eta \u001b[36m0:00:00\u001b[0m\n",
      "\u001b[?25hCollecting click==8.1.3\n",
      "  Downloading click-8.1.3-py3-none-any.whl (96 kB)\n",
      "\u001b[2K     \u001b[90m━━━━━━━━━━━━━━━━━━━━━━━━━━━━━━━━━━━━━━━━\u001b[0m \u001b[32m96.6/96.6 KB\u001b[0m \u001b[31m9.5 MB/s\u001b[0m eta \u001b[36m0:00:00\u001b[0m\n",
      "\u001b[?25hCollecting boto3==1.24.59\n",
      "  Downloading boto3-1.24.59-py3-none-any.whl (132 kB)\n",
      "\u001b[2K     \u001b[90m━━━━━━━━━━━━━━━━━━━━━━━━━━━━━━━━━━━━━━━\u001b[0m \u001b[32m132.5/132.5 KB\u001b[0m \u001b[31m8.7 MB/s\u001b[0m eta \u001b[36m0:00:00\u001b[0m\n",
      "\u001b[?25hCollecting s3fs==2022.10.0\n",
      "  Downloading s3fs-2022.10.0-py3-none-any.whl (27 kB)\n",
      "Collecting s3transfer<0.7.0,>=0.6.0\n",
      "  Downloading s3transfer-0.6.0-py3-none-any.whl (79 kB)\n",
      "\u001b[2K     \u001b[90m━━━━━━━━━━━━━━━━━━━━━━━━━━━━━━━━━━━━━━━━\u001b[0m \u001b[32m79.6/79.6 KB\u001b[0m \u001b[31m7.7 MB/s\u001b[0m eta \u001b[36m0:00:00\u001b[0m\n",
      "\u001b[?25hCollecting jmespath<2.0.0,>=0.7.1\n",
      "  Downloading jmespath-1.0.1-py3-none-any.whl (20 kB)\n",
      "Collecting botocore<1.28.0,>=1.27.59\n",
      "  Downloading botocore-1.27.96-py3-none-any.whl (9.3 MB)\n",
      "\u001b[2K     \u001b[90m━━━━━━━━━━━━━━━━━━━━━━━━━━━━━━━━━━━━━━━━\u001b[0m \u001b[32m9.3/9.3 MB\u001b[0m \u001b[31m15.3 MB/s\u001b[0m eta \u001b[36m0:00:00\u001b[0m00:01\u001b[0m00:01\u001b[0m\n",
      "\u001b[?25hCollecting typing-extensions>=4.1.0\n",
      "  Downloading typing_extensions-4.4.0-py3-none-any.whl (26 kB)\n",
      "Collecting urllib3<1.27,>=1.21.1\n",
      "  Downloading urllib3-1.26.14-py2.py3-none-any.whl (140 kB)\n",
      "\u001b[2K     \u001b[90m━━━━━━━━━━━━━━━━━━━━━━━━━━━━━━━━━━━━━━\u001b[0m \u001b[32m140.6/140.6 KB\u001b[0m \u001b[31m10.8 MB/s\u001b[0m eta \u001b[36m0:00:00\u001b[0m\n",
      "\u001b[?25hCollecting charset-normalizer<3,>=2\n",
      "  Downloading charset_normalizer-2.1.1-py3-none-any.whl (39 kB)\n",
      "Requirement already satisfied: idna<4,>=2.5 in ./.local/lib/python3.10/site-packages (from requests==2.28.1->pyiceberg[glue,s3fs]) (3.4)\n",
      "Collecting certifi>=2017.4.17\n",
      "  Downloading certifi-2022.12.7-py3-none-any.whl (155 kB)\n",
      "\u001b[2K     \u001b[90m━━━━━━━━━━━━━━━━━━━━━━━━━━━━━━━━━━━━━━━\u001b[0m \u001b[32m155.3/155.3 KB\u001b[0m \u001b[31m9.3 MB/s\u001b[0m eta \u001b[36m0:00:00\u001b[0m\n",
      "\u001b[?25hRequirement already satisfied: pygments<3.0.0,>=2.6.0 in ./.local/lib/python3.10/site-packages (from rich==12.6.0->pyiceberg[glue,s3fs]) (2.13.0)\n",
      "Collecting commonmark<0.10.0,>=0.9.0\n",
      "  Downloading commonmark-0.9.1-py2.py3-none-any.whl (51 kB)\n",
      "\u001b[2K     \u001b[90m━━━━━━━━━━━━━━━━━━━━━━━━━━━━━━━━━━━━━━━━\u001b[0m \u001b[32m51.1/51.1 KB\u001b[0m \u001b[31m5.1 MB/s\u001b[0m eta \u001b[36m0:00:00\u001b[0m\n",
      "\u001b[?25hCollecting aiobotocore~=2.4.0\n",
      "  Downloading aiobotocore-2.4.2-py3-none-any.whl (66 kB)\n",
      "\u001b[2K     \u001b[90m━━━━━━━━━━━━━━━━━━━━━━━━━━━━━━━━━━━━━━━━\u001b[0m \u001b[32m66.8/66.8 KB\u001b[0m \u001b[31m7.4 MB/s\u001b[0m eta \u001b[36m0:00:00\u001b[0m\n",
      "\u001b[?25hCollecting aiohttp!=4.0.0a0,!=4.0.0a1\n",
      "  Downloading aiohttp-3.8.3-cp310-cp310-manylinux_2_17_x86_64.manylinux2014_x86_64.whl (1.0 MB)\n",
      "\u001b[2K     \u001b[90m━━━━━━━━━━━━━━━━━━━━━━━━━━━━━━━━━━━━━━━━\u001b[0m \u001b[32m1.0/1.0 MB\u001b[0m \u001b[31m14.8 MB/s\u001b[0m eta \u001b[36m0:00:00\u001b[0ma \u001b[36m0:00:01\u001b[0m\n",
      "\u001b[?25hCollecting botocore<1.28.0,>=1.27.59\n",
      "  Downloading botocore-1.27.59-py3-none-any.whl (9.1 MB)\n",
      "\u001b[2K     \u001b[90m━━━━━━━━━━━━━━━━━━━━━━━━━━━━━━━━━━━━━━━━\u001b[0m \u001b[32m9.1/9.1 MB\u001b[0m \u001b[31m16.1 MB/s\u001b[0m eta \u001b[36m0:00:00\u001b[0m00:01\u001b[0m00:01\u001b[0m\n",
      "\u001b[?25hCollecting wrapt>=1.10.10\n",
      "  Downloading wrapt-1.14.1-cp310-cp310-manylinux_2_5_x86_64.manylinux1_x86_64.manylinux_2_17_x86_64.manylinux2014_x86_64.whl (77 kB)\n",
      "\u001b[2K     \u001b[90m━━━━━━━━━━━━━━━━━━━━━━━━━━━━━━━━━━━━━━━━\u001b[0m \u001b[32m77.9/77.9 KB\u001b[0m \u001b[31m5.0 MB/s\u001b[0m eta \u001b[36m0:00:00\u001b[0m\n",
      "\u001b[?25hCollecting aioitertools>=0.5.1\n",
      "  Downloading aioitertools-0.11.0-py3-none-any.whl (23 kB)\n",
      "Collecting multidict<7.0,>=4.5\n",
      "  Downloading multidict-6.0.4-cp310-cp310-manylinux_2_17_x86_64.manylinux2014_x86_64.whl (114 kB)\n",
      "\u001b[2K     \u001b[90m━━━━━━━━━━━━━━━━━━━━━━━━━━━━━━━━━━━━━━━\u001b[0m \u001b[32m114.5/114.5 KB\u001b[0m \u001b[31m9.7 MB/s\u001b[0m eta \u001b[36m0:00:00\u001b[0m\n",
      "\u001b[?25hCollecting yarl<2.0,>=1.0\n",
      "  Downloading yarl-1.8.2-cp310-cp310-manylinux_2_17_x86_64.manylinux2014_x86_64.whl (264 kB)\n",
      "\u001b[2K     \u001b[90m━━━━━━━━━━━━━━━━━━━━━━━━━━━━━━━━━━━━━━\u001b[0m \u001b[32m264.0/264.0 KB\u001b[0m \u001b[31m11.0 MB/s\u001b[0m eta \u001b[36m0:00:00\u001b[0m\n",
      "\u001b[?25hCollecting frozenlist>=1.1.1\n",
      "  Downloading frozenlist-1.3.3-cp310-cp310-manylinux_2_5_x86_64.manylinux1_x86_64.manylinux_2_17_x86_64.manylinux2014_x86_64.whl (149 kB)\n",
      "\u001b[2K     \u001b[90m━━━━━━━━━━━━━━━━━━━━━━━━━━━━━━━━━━━━━━━\u001b[0m \u001b[32m149.6/149.6 KB\u001b[0m \u001b[31m8.9 MB/s\u001b[0m eta \u001b[36m0:00:00\u001b[0m\n",
      "\u001b[?25hCollecting async-timeout<5.0,>=4.0.0a3\n",
      "  Downloading async_timeout-4.0.2-py3-none-any.whl (5.8 kB)\n",
      "Requirement already satisfied: attrs>=17.3.0 in ./.local/lib/python3.10/site-packages (from aiohttp!=4.0.0a0,!=4.0.0a1->s3fs==2022.10.0->pyiceberg[glue,s3fs]) (22.1.0)\n",
      "Collecting aiosignal>=1.1.2\n",
      "  Downloading aiosignal-1.3.1-py3-none-any.whl (7.6 kB)\n",
      "Requirement already satisfied: python-dateutil<3.0.0,>=2.1 in ./.local/lib/python3.10/site-packages (from botocore<1.28.0,>=1.27.59->boto3==1.24.59->pyiceberg[glue,s3fs]) (2.8.2)\n",
      "Requirement already satisfied: six>=1.5 in ./.local/lib/python3.10/site-packages (from python-dateutil<3.0.0,>=2.1->botocore<1.28.0,>=1.27.59->boto3==1.24.59->pyiceberg[glue,s3fs]) (1.16.0)\n",
      "Installing collected packages: mmhash3, commonmark, zstandard, wrapt, urllib3, typing-extensions, rich, pyyaml, multidict, jmespath, fsspec, frozenlist, click, charset-normalizer, certifi, async-timeout, aioitertools, yarl, requests, pydantic, botocore, aiosignal, s3transfer, pyiceberg, aiohttp, boto3, aiobotocore, s3fs\n",
      "\u001b[33m  WARNING: The script cmark is installed in '/home/docker/.local/bin' which is not on PATH.\n",
      "  Consider adding this directory to PATH or, if you prefer to suppress this warning, use --no-warn-script-location.\u001b[0m\u001b[33m\n",
      "\u001b[0m\u001b[33m  WARNING: The script normalizer is installed in '/home/docker/.local/bin' which is not on PATH.\n",
      "  Consider adding this directory to PATH or, if you prefer to suppress this warning, use --no-warn-script-location.\u001b[0m\u001b[33m\n",
      "\u001b[0m\u001b[33m  WARNING: The script pyiceberg is installed in '/home/docker/.local/bin' which is not on PATH.\n",
      "  Consider adding this directory to PATH or, if you prefer to suppress this warning, use --no-warn-script-location.\u001b[0m\u001b[33m\n",
      "\u001b[0mSuccessfully installed aiobotocore-2.4.2 aiohttp-3.8.3 aioitertools-0.11.0 aiosignal-1.3.1 async-timeout-4.0.2 boto3-1.24.59 botocore-1.27.59 certifi-2022.12.7 charset-normalizer-2.1.1 click-8.1.3 commonmark-0.9.1 frozenlist-1.3.3 fsspec-2022.10.0 jmespath-1.0.1 mmhash3-3.0.1 multidict-6.0.4 pydantic-1.10.2 pyiceberg-0.2.1 pyyaml-6.0 requests-2.28.1 rich-12.6.0 s3fs-2022.10.0 s3transfer-0.6.0 typing-extensions-4.4.0 urllib3-1.26.14 wrapt-1.14.1 yarl-1.8.2 zstandard-0.19.0\n",
      "Note: you may need to restart the kernel to use updated packages.\n"
     ]
    }
   ],
   "source": [
    "pip install \"pyiceberg[s3fs,glue]\""
   ]
  },
  {
   "cell_type": "code",
   "execution_count": 18,
   "id": "a4d38bfd",
   "metadata": {
    "scrolled": true
   },
   "outputs": [
    {
     "name": "stdout",
     "output_type": "stream",
     "text": [
      "Defaulting to user installation because normal site-packages is not writeable\n",
      "Requirement already satisfied: pyiceberg[pyarrow] in ./.local/lib/python3.10/site-packages (0.2.1)\n",
      "Requirement already satisfied: zstandard==0.19.0 in ./.local/lib/python3.10/site-packages (from pyiceberg[pyarrow]) (0.19.0)\n",
      "Requirement already satisfied: fsspec==2022.10.0 in ./.local/lib/python3.10/site-packages (from pyiceberg[pyarrow]) (2022.10.0)\n",
      "Requirement already satisfied: pyyaml==6.0.0 in ./.local/lib/python3.10/site-packages (from pyiceberg[pyarrow]) (6.0)\n",
      "Requirement already satisfied: pydantic==1.10.2 in ./.local/lib/python3.10/site-packages (from pyiceberg[pyarrow]) (1.10.2)\n",
      "Requirement already satisfied: click==8.1.3 in ./.local/lib/python3.10/site-packages (from pyiceberg[pyarrow]) (8.1.3)\n",
      "Requirement already satisfied: mmhash3==3.0.1 in ./.local/lib/python3.10/site-packages (from pyiceberg[pyarrow]) (3.0.1)\n",
      "Requirement already satisfied: requests==2.28.1 in ./.local/lib/python3.10/site-packages (from pyiceberg[pyarrow]) (2.28.1)\n",
      "Requirement already satisfied: rich==12.6.0 in ./.local/lib/python3.10/site-packages (from pyiceberg[pyarrow]) (12.6.0)\n",
      "Collecting pyarrow==10.0.1\n",
      "  Downloading pyarrow-10.0.1-cp310-cp310-manylinux_2_17_x86_64.manylinux2014_x86_64.whl (35.9 MB)\n",
      "\u001b[2K     \u001b[90m━━━━━━━━━━━━━━━━━━━━━━━━━━━━━━━━━━━━━━━━\u001b[0m \u001b[32m35.9/35.9 MB\u001b[0m \u001b[31m12.6 MB/s\u001b[0m eta \u001b[36m0:00:00\u001b[0m00:01\u001b[0m00:01\u001b[0m\n",
      "\u001b[?25hRequirement already satisfied: numpy>=1.16.6 in ./.local/lib/python3.10/site-packages (from pyarrow==10.0.1->pyiceberg[pyarrow]) (1.24.0)\n",
      "Requirement already satisfied: typing-extensions>=4.1.0 in ./.local/lib/python3.10/site-packages (from pydantic==1.10.2->pyiceberg[pyarrow]) (4.4.0)\n",
      "Requirement already satisfied: charset-normalizer<3,>=2 in ./.local/lib/python3.10/site-packages (from requests==2.28.1->pyiceberg[pyarrow]) (2.1.1)\n",
      "Requirement already satisfied: urllib3<1.27,>=1.21.1 in ./.local/lib/python3.10/site-packages (from requests==2.28.1->pyiceberg[pyarrow]) (1.26.14)\n",
      "Requirement already satisfied: certifi>=2017.4.17 in ./.local/lib/python3.10/site-packages (from requests==2.28.1->pyiceberg[pyarrow]) (2022.12.7)\n",
      "Requirement already satisfied: idna<4,>=2.5 in ./.local/lib/python3.10/site-packages (from requests==2.28.1->pyiceberg[pyarrow]) (3.4)\n",
      "Requirement already satisfied: commonmark<0.10.0,>=0.9.0 in ./.local/lib/python3.10/site-packages (from rich==12.6.0->pyiceberg[pyarrow]) (0.9.1)\n",
      "Requirement already satisfied: pygments<3.0.0,>=2.6.0 in ./.local/lib/python3.10/site-packages (from rich==12.6.0->pyiceberg[pyarrow]) (2.13.0)\n",
      "Installing collected packages: pyarrow\n",
      "\u001b[33m  WARNING: The script plasma_store is installed in '/home/docker/.local/bin' which is not on PATH.\n",
      "  Consider adding this directory to PATH or, if you prefer to suppress this warning, use --no-warn-script-location.\u001b[0m\u001b[33m\n",
      "\u001b[0mSuccessfully installed pyarrow-10.0.1\n",
      "Note: you may need to restart the kernel to use updated packages.\n"
     ]
    }
   ],
   "source": [
    "pip install \"pyiceberg[pyarrow]\""
   ]
  },
  {
   "cell_type": "code",
   "execution_count": 40,
   "id": "c48f697e",
   "metadata": {},
   "outputs": [
    {
     "data": {
      "text/plain": [
       "[('database',), ('db',), ('db2',), ('db3',), ('test',)]"
      ]
     },
     "execution_count": 40,
     "metadata": {},
     "output_type": "execute_result"
    }
   ],
   "source": [
    "# Iceberg- catalog; Load the catalog and list out the databases already existing in Glue:\n",
    "from pyiceberg.catalog import load_catalog\n",
    "catalog = load_catalog(\"glue\", **{\"type\": \"glue\"})\n",
    "catalog.list_namespaces()"
   ]
  },
  {
   "cell_type": "code",
   "execution_count": 16,
   "id": "48880b40",
   "metadata": {},
   "outputs": [
    {
     "data": {
      "text/plain": [
       "[('test', 'sales'),\n",
       " ('test', 'salesnew'),\n",
       " ('test', 'test'),\n",
       " ('test', 'nyc_worker_coops')]"
      ]
     },
     "execution_count": 16,
     "metadata": {},
     "output_type": "execute_result"
    }
   ],
   "source": [
    "# Listing out the existing Iceberg tables in the test catalog:\n",
    "catalog.list_tables(\"test\")"
   ]
  },
  {
   "cell_type": "code",
   "execution_count": 25,
   "id": "25c9b988",
   "metadata": {},
   "outputs": [],
   "source": [
    "# This returns a Table that represents an Iceberg table:\n",
    "ice_table = catalog.load_table(\"test.salesnew\")"
   ]
  },
  {
   "cell_type": "code",
   "execution_count": 42,
   "id": "35a2997d",
   "metadata": {},
   "outputs": [],
   "source": [
    "# to query an Ice table, we need to do a table scan using this method:\n",
    "scan = ice_table.scan()"
   ]
  },
  {
   "cell_type": "code",
   "execution_count": 45,
   "id": "5e2e25d2",
   "metadata": {},
   "outputs": [],
   "source": [
    "# For analysis, we convert our table scan into a PyArrow object:\n",
    "scan = scan.to_arrow()"
   ]
  },
  {
   "cell_type": "code",
   "execution_count": 46,
   "id": "fac339e9",
   "metadata": {},
   "outputs": [
    {
     "name": "stdout",
     "output_type": "stream",
     "text": [
      "pyarrow.Table\n",
      "id: string\n",
      "name: string\n",
      "product: string\n",
      "price: string\n",
      "date: string\n",
      "----\n",
      "id: [[\"1\",\"2\",\"3\",\"4\",\"5\",...,\"496\",\"497\",\"498\",\"499\",\"500\"]]\n",
      "name: [[\"Selinda Rheaume\",\"Wynnie Gozzard\",\"Patten Whitter\",\"Hulda Eslie\",\"Chrystal Haggie\",...,\"Winny McGlone\",\"Hadleigh Ellinor\",\"Kimberlee Hancill\",\"Anet Scaife\",\"Bary Reap\"]]\n",
      "product: [[\"Wine - Prosecco Valdobiaddene\",\"Wine - Red, Wolf Blass, Yellow\",\"Crackers - Soda / Saltins\",\"Roe - White Fish\",\"Wine - Delicato Merlot\",...,\"Pasta - Fusili Tri - Coloured\",\"Oats Large Flake\",\"Soup - Knorr, Country Bean\",\"Soup - French Onion\",\"Soup - Tomato Mush. Florentine\"]]\n",
      "price: [[\"10.31\",\"20.05\",\"39.75\",\"37.10\",\"35.82\",...,\"67.78\",\"58.19\",\"81.64\",\"98.51\",\"92.64\"]]\n",
      "date: [[\"10/20/2022\",\"10/20/2022\",\"10/20/2022\",\"10/20/2022\",\"10/20/2022\",...,\"10/20/2022\",\"10/20/2022\",\"10/20/2022\",\"10/20/2022\",\"10/20/2022\"]]\n"
     ]
    }
   ],
   "source": [
    "print(scan)"
   ]
  },
  {
   "cell_type": "code",
   "execution_count": 47,
   "id": "4279d813",
   "metadata": {},
   "outputs": [],
   "source": [
    "# Convert it into a dataframe\n",
    "df = scan.to_pandas()"
   ]
  },
  {
   "cell_type": "code",
   "execution_count": 48,
   "id": "7ec10194",
   "metadata": {},
   "outputs": [
    {
     "data": {
      "text/html": [
       "<div>\n",
       "<style scoped>\n",
       "    .dataframe tbody tr th:only-of-type {\n",
       "        vertical-align: middle;\n",
       "    }\n",
       "\n",
       "    .dataframe tbody tr th {\n",
       "        vertical-align: top;\n",
       "    }\n",
       "\n",
       "    .dataframe thead th {\n",
       "        text-align: right;\n",
       "    }\n",
       "</style>\n",
       "<table border=\"1\" class=\"dataframe\">\n",
       "  <thead>\n",
       "    <tr style=\"text-align: right;\">\n",
       "      <th></th>\n",
       "      <th>id</th>\n",
       "      <th>name</th>\n",
       "      <th>product</th>\n",
       "      <th>price</th>\n",
       "      <th>date</th>\n",
       "    </tr>\n",
       "  </thead>\n",
       "  <tbody>\n",
       "    <tr>\n",
       "      <th>0</th>\n",
       "      <td>1</td>\n",
       "      <td>Selinda Rheaume</td>\n",
       "      <td>Wine - Prosecco Valdobiaddene</td>\n",
       "      <td>10.31</td>\n",
       "      <td>10/20/2022</td>\n",
       "    </tr>\n",
       "    <tr>\n",
       "      <th>1</th>\n",
       "      <td>2</td>\n",
       "      <td>Wynnie Gozzard</td>\n",
       "      <td>Wine - Red, Wolf Blass, Yellow</td>\n",
       "      <td>20.05</td>\n",
       "      <td>10/20/2022</td>\n",
       "    </tr>\n",
       "    <tr>\n",
       "      <th>2</th>\n",
       "      <td>3</td>\n",
       "      <td>Patten Whitter</td>\n",
       "      <td>Crackers - Soda / Saltins</td>\n",
       "      <td>39.75</td>\n",
       "      <td>10/20/2022</td>\n",
       "    </tr>\n",
       "    <tr>\n",
       "      <th>3</th>\n",
       "      <td>4</td>\n",
       "      <td>Hulda Eslie</td>\n",
       "      <td>Roe - White Fish</td>\n",
       "      <td>37.10</td>\n",
       "      <td>10/20/2022</td>\n",
       "    </tr>\n",
       "    <tr>\n",
       "      <th>4</th>\n",
       "      <td>5</td>\n",
       "      <td>Chrystal Haggie</td>\n",
       "      <td>Wine - Delicato Merlot</td>\n",
       "      <td>35.82</td>\n",
       "      <td>10/20/2022</td>\n",
       "    </tr>\n",
       "    <tr>\n",
       "      <th>...</th>\n",
       "      <td>...</td>\n",
       "      <td>...</td>\n",
       "      <td>...</td>\n",
       "      <td>...</td>\n",
       "      <td>...</td>\n",
       "    </tr>\n",
       "    <tr>\n",
       "      <th>495</th>\n",
       "      <td>496</td>\n",
       "      <td>Winny McGlone</td>\n",
       "      <td>Pasta - Fusili Tri - Coloured</td>\n",
       "      <td>67.78</td>\n",
       "      <td>10/20/2022</td>\n",
       "    </tr>\n",
       "    <tr>\n",
       "      <th>496</th>\n",
       "      <td>497</td>\n",
       "      <td>Hadleigh Ellinor</td>\n",
       "      <td>Oats Large Flake</td>\n",
       "      <td>58.19</td>\n",
       "      <td>10/20/2022</td>\n",
       "    </tr>\n",
       "    <tr>\n",
       "      <th>497</th>\n",
       "      <td>498</td>\n",
       "      <td>Kimberlee Hancill</td>\n",
       "      <td>Soup - Knorr, Country Bean</td>\n",
       "      <td>81.64</td>\n",
       "      <td>10/20/2022</td>\n",
       "    </tr>\n",
       "    <tr>\n",
       "      <th>498</th>\n",
       "      <td>499</td>\n",
       "      <td>Anet Scaife</td>\n",
       "      <td>Soup - French Onion</td>\n",
       "      <td>98.51</td>\n",
       "      <td>10/20/2022</td>\n",
       "    </tr>\n",
       "    <tr>\n",
       "      <th>499</th>\n",
       "      <td>500</td>\n",
       "      <td>Bary Reap</td>\n",
       "      <td>Soup - Tomato Mush. Florentine</td>\n",
       "      <td>92.64</td>\n",
       "      <td>10/20/2022</td>\n",
       "    </tr>\n",
       "  </tbody>\n",
       "</table>\n",
       "<p>500 rows × 5 columns</p>\n",
       "</div>"
      ],
      "text/plain": [
       "      id               name                         product  price        date\n",
       "0      1    Selinda Rheaume   Wine - Prosecco Valdobiaddene  10.31  10/20/2022\n",
       "1      2     Wynnie Gozzard  Wine - Red, Wolf Blass, Yellow  20.05  10/20/2022\n",
       "2      3     Patten Whitter       Crackers - Soda / Saltins  39.75  10/20/2022\n",
       "3      4        Hulda Eslie                Roe - White Fish  37.10  10/20/2022\n",
       "4      5    Chrystal Haggie          Wine - Delicato Merlot  35.82  10/20/2022\n",
       "..   ...                ...                             ...    ...         ...\n",
       "495  496      Winny McGlone   Pasta - Fusili Tri - Coloured  67.78  10/20/2022\n",
       "496  497   Hadleigh Ellinor                Oats Large Flake  58.19  10/20/2022\n",
       "497  498  Kimberlee Hancill      Soup - Knorr, Country Bean  81.64  10/20/2022\n",
       "498  499        Anet Scaife             Soup - French Onion  98.51  10/20/2022\n",
       "499  500          Bary Reap  Soup - Tomato Mush. Florentine  92.64  10/20/2022\n",
       "\n",
       "[500 rows x 5 columns]"
      ]
     },
     "execution_count": 48,
     "metadata": {},
     "output_type": "execute_result"
    }
   ],
   "source": [
    "df"
   ]
  },
  {
   "cell_type": "code",
   "execution_count": 49,
   "id": "b1f95465",
   "metadata": {},
   "outputs": [
    {
     "name": "stdout",
     "output_type": "stream",
     "text": [
      "[Snapshot(snapshot_id=3393406712675561257, parent_snapshot_id=None, sequence_number=None, timestamp_ms=1673476027663, manifest_list='s3://dm-iceberg/test.db/salesnew/metadata/snap-3393406712675561257-1-76b0943d-ceb3-454e-ae42-14ff9acb156b.avro', summary=Summary(Operation.APPEND, **{'spark.app.id': 'local-1673475113466', 'added-data-files': '1', 'added-records': '500', 'added-files-size': '14771', 'changed-partition-count': '1', 'total-records': '500', 'total-files-size': '14771', 'total-data-files': '1', 'total-delete-files': '0', 'total-position-deletes': '0', 'total-equality-deletes': '0'}), schema_id=0)]\n"
     ]
    }
   ],
   "source": [
    "print(ice_table.metadata.snapshots)"
   ]
  },
  {
   "cell_type": "code",
   "execution_count": null,
   "id": "6f680c49",
   "metadata": {},
   "outputs": [],
   "source": []
  }
 ],
 "metadata": {
  "kernelspec": {
   "display_name": "Python 3 (ipykernel)",
   "language": "python",
   "name": "python3"
  },
  "language_info": {
   "codemirror_mode": {
    "name": "ipython",
    "version": 3
   },
   "file_extension": ".py",
   "mimetype": "text/x-python",
   "name": "python",
   "nbconvert_exporter": "python",
   "pygments_lexer": "ipython3",
   "version": "3.10.6"
  }
 },
 "nbformat": 4,
 "nbformat_minor": 5
}
